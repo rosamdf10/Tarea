{
  "nbformat": 4,
  "nbformat_minor": 0,
  "metadata": {
    "colab": {
      "provenance": []
    },
    "kernelspec": {
      "name": "python3",
      "display_name": "Python 3"
    },
    "language_info": {
      "name": "python"
    }
  },
  "cells": [
    {
      "cell_type": "code",
      "source": [
        "class Triangulo:\n",
        "\n",
        "    def inicializar(self):\n",
        "        self.lado1=int(input(\"Ingrese primer lado:\"))\n",
        "        self.lado2=int(input(\"Ingrese segundo lado:\"))\n",
        "        self.lado3=int(input(\"Ingrese tercer lado:\"))\n",
        "\n",
        "    def imprimir(self):\n",
        "        print(\"Valores de los lados del triangulo\")\n",
        "        print(\"Lado 1\",self.lado1)\n",
        "        print(\"Lado 2\",self.lado2)\n",
        "        print(\"Lado 3\",self.lado3)\n",
        "\n",
        "    def lado_mayor(self):\n",
        "        print(\"Lado mayor\")\n",
        "        if self.lado1>self.lado2 and self.lado1>self.lado3:\n",
        "            print(self.lado1)\n",
        "        else:\n",
        "            if self.lado2>self.lado3:\n",
        "                print(self.lado2)\n",
        "            else:\n",
        "                print(self.lado3)\n",
        "\n",
        "    def es_equilatero(self):\n",
        "        if self.lado1==self.lado2 and self.lado1==self.lado3:\n",
        "            print(\"El triangulo es equilatero\")\n",
        "        else:\n",
        "            print(\"El triangulo no es equilatero\")\n",
        "\n",
        "\n",
        "# bloque principal\n",
        "\n",
        "triangulo1=Triangulo()\n",
        "triangulo1.inicializar()\n",
        "triangulo1.imprimir()\n",
        "triangulo1.lado_mayor()\n",
        "triangulo1.es_equilatero()"
      ],
      "metadata": {
        "colab": {
          "base_uri": "https://localhost:8080/"
        },
        "id": "LKGsJNK1WVxR",
        "outputId": "57bc2881-24cd-459f-bf98-fa81b8cc4d71"
      },
      "execution_count": 6,
      "outputs": [
        {
          "output_type": "stream",
          "name": "stdout",
          "text": [
            "Ingrese primer lado:10\n",
            "Ingrese segundo lado:10\n",
            "Ingrese tercer lado:10\n",
            "Valores de los lados del triangulo\n",
            "Lado 1 10\n",
            "Lado 2 10\n",
            "Lado 3 10\n",
            "Lado mayor\n",
            "10\n",
            "El triangulo es equilatero\n"
          ]
        }
      ]
    }
  ]
}